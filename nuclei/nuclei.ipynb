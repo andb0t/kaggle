{
 "cells": [
  {
   "cell_type": "markdown",
   "metadata": {},
   "source": [
    "# The nucleus challenge"
   ]
  },
  {
   "cell_type": "markdown",
   "metadata": {},
   "source": [
    "## Read the data"
   ]
  },
  {
   "cell_type": "code",
   "execution_count": null,
   "metadata": {},
   "outputs": [],
   "source": [
    "import pathlib\n",
    "import imageio\n",
    "import numpy as np"
   ]
  },
  {
   "cell_type": "code",
   "execution_count": null,
   "metadata": {},
   "outputs": [],
   "source": [
    "training_paths = pathlib.Path('data/data-science-bowl-2018/stage1_train').glob('*/images/*.png')\n",
    "training_sorted = sorted([x for x in training_paths])\n",
    "print(*training_sorted[0:2], sep='\\n')"
   ]
  },
  {
   "cell_type": "markdown",
   "metadata": {},
   "source": [
    "## Plot the data"
   ]
  },
  {
   "cell_type": "code",
   "execution_count": null,
   "metadata": {},
   "outputs": [],
   "source": [
    "import matplotlib.pyplot as plt\n",
    "\n",
    "\n",
    "def show_images(ims, cmap=None, labels=None):\n",
    "    plt.figure(figsize=(3 * len(ims),10))\n",
    "    if labels is not None:\n",
    "        assert(len(labels) == len(ims)), 'provide exactly one label per image'\n",
    "    for idx, im in enumerate(ims):\n",
    "        plt.subplot(1,len(ims),idx + 1)\n",
    "        plt.imshow(im, cmap=cmap)\n",
    "        # plt.axis('off')\n",
    "        if labels is None:\n",
    "            plt.title('Image ' + str(idx))\n",
    "        else:\n",
    "            plt.title(labels[idx])\n",
    "            \n",
    "    plt.tight_layout()\n",
    "    plt.show()"
   ]
  },
  {
   "cell_type": "code",
   "execution_count": null,
   "metadata": {},
   "outputs": [],
   "source": [
    "ims = list(map(lambda p: imageio.imread(str(p)), training_sorted[0:4]))\n",
    "show_images(ims)"
   ]
  },
  {
   "cell_type": "markdown",
   "metadata": {},
   "source": [
    "## Clean the data"
   ]
  },
  {
   "cell_type": "markdown",
   "metadata": {},
   "source": [
    "### Coerce to gray scale"
   ]
  },
  {
   "cell_type": "code",
   "execution_count": null,
   "metadata": {},
   "outputs": [],
   "source": [
    "from skimage.color import rgb2gray\n",
    "\n",
    "im = imageio.imread(str(training_sorted[0]))  # image instance for testing\n",
    "im2 = imageio.imread(str(training_sorted[2]))  # image instance for testing\n",
    "\n",
    "# Print the image dimensions\n",
    "print('Original image shape: {}'.format(im.shape))\n",
    "\n",
    "# Coerce the image into grayscale format (if not already)\n",
    "print('New image shape: {}'.format(rgb2gray(im).shape))\n",
    "\n",
    "ims = list(map(lambda p: rgb2gray(imageio.imread(str(p))), training_sorted[0:4]))\n",
    "show_images(ims, cmap='gray')"
   ]
  },
  {
   "cell_type": "markdown",
   "metadata": {},
   "source": [
    "### Remove background"
   ]
  },
  {
   "cell_type": "markdown",
   "metadata": {},
   "source": [
    "#### Analyze distribution of pixel intensity"
   ]
  },
  {
   "cell_type": "code",
   "execution_count": null,
   "metadata": {},
   "outputs": [],
   "source": [
    "def show_pixel_values(ims):\n",
    "    plt.figure(figsize=(2 * len(ims),2))\n",
    "    for idx, im in enumerate(ims):\n",
    "        plt.subplot(1,len(ims),idx + 1)\n",
    "        im_pixels = im.flatten()\n",
    "        plt.hist(im_pixels, bins=50)\n",
    "        # plt.vlines(thresh_val, 0, 100000, linestyle='--')\n",
    "        plt.xlim([0,1])\n",
    "        plt.yscale('log', nonposy='clip')\n",
    "        plt.xlabel('grayscale')\n",
    "        plt.title('Image ' + str(idx))\n",
    "            \n",
    "    plt.tight_layout()\n",
    "    plt.show()\n",
    "    \n",
    "ims = list(map(lambda p: rgb2gray(imageio.imread(str(p))), training_sorted[0:4]))\n",
    "show_pixel_values(ims)"
   ]
  },
  {
   "cell_type": "markdown",
   "metadata": {},
   "source": [
    "#### Mask all values above/below certain threshold"
   ]
  },
  {
   "cell_type": "code",
   "execution_count": null,
   "metadata": {},
   "outputs": [],
   "source": [
    "from skimage.filters import threshold_otsu\n",
    "\n",
    "\n",
    "def get_image_mask(im):\n",
    "    if len(im.shape) > 2:\n",
    "        raise ValueError('need 2-dimensional image data, you provided ' + str(im.shape))\n",
    "    strategy = 'mean'\n",
    "    if strategy == 'mean':\n",
    "        thresh_val = np.mean(im)\n",
    "    elif strategy == 'otsu':\n",
    "        thresh_val = threshold_otsu(im)\n",
    "    else:\n",
    "        thresh_val = 0.3\n",
    "    mask = np.where(im > thresh_val, 1, 0)\n",
    "\n",
    "    # Make sure the larger portion of the mask is considered background\n",
    "    if np.sum(mask==0) < np.sum(mask==1):\n",
    "        mask = np.where(mask, 0, 1)\n",
    "        \n",
    "    return mask\n",
    "\n",
    "\n",
    "def mask_image(im):    \n",
    "    return np.where(get_image_mask(im), im, 0)"
   ]
  },
  {
   "cell_type": "code",
   "execution_count": null,
   "metadata": {},
   "outputs": [],
   "source": [
    "ims = list(map(lambda p: mask_image(rgb2gray(imageio.imread(str(p)))), training_sorted[0:4]))\n",
    "show_images(ims, cmap='gray')"
   ]
  },
  {
   "cell_type": "code",
   "execution_count": null,
   "metadata": {},
   "outputs": [],
   "source": [
    "print('Unmasked:')\n",
    "ims = list(map(lambda p: rgb2gray(imageio.imread(str(p))), training_sorted[0:4]))\n",
    "show_pixel_values(ims)\n",
    "print('Masked:')\n",
    "ims = list(map(lambda p: mask_image(rgb2gray(imageio.imread(str(p)))), training_sorted[0:4]))\n",
    "show_pixel_values(ims)"
   ]
  },
  {
   "cell_type": "markdown",
   "metadata": {},
   "source": [
    "### Create separate mask for each blob"
   ]
  },
  {
   "cell_type": "code",
   "execution_count": null,
   "metadata": {},
   "outputs": [],
   "source": [
    "from scipy import ndimage\n",
    "\n",
    "mask = get_image_mask(rgb2gray(im))\n",
    "labels, nlabels = ndimage.label(mask)\n",
    "\n",
    "show_images([mask])\n",
    "# show_images(labels[:3])\n",
    "print(labels[200])"
   ]
  },
  {
   "cell_type": "code",
   "execution_count": null,
   "metadata": {},
   "outputs": [],
   "source": [
    "def get_separate_masks(im):\n",
    "    mask = get_image_mask(rgb2gray(im))\n",
    "    labels, nlabels = ndimage.label(mask)\n",
    "    label_arrays = []\n",
    "    for label_num in range(1, nlabels+1):\n",
    "        label_mask = np.where(labels == label_num, 1, 0)\n",
    "        label_arrays.append(label_mask)\n",
    "    return label_arrays\n",
    "\n",
    "masks = get_separate_masks(rgb2gray(im))\n",
    "show_images([masks[18], masks[18][240:, 20:50]], labels=['Full', 'Zoom'])"
   ]
  },
  {
   "cell_type": "markdown",
   "metadata": {},
   "source": [
    "### Create string representation of mask"
   ]
  },
  {
   "cell_type": "code",
   "execution_count": null,
   "metadata": {},
   "outputs": [],
   "source": [
    "def create_output_string(mask):\n",
    "    nY, nX = mask.shape\n",
    "    result = ''\n",
    "    idx = 0\n",
    "    count = 0\n",
    "    for x in range(nX):\n",
    "        for y in range(nY):\n",
    "            if mask[y, x] == 1 and count == 0:\n",
    "                result += str(idx) + ' '\n",
    "                count += 1\n",
    "            elif mask[y, x] == 1:\n",
    "                count += 1\n",
    "            elif (mask[y, x] == 0) and count != 0:\n",
    "                result += 'c' + str(count) + ' '\n",
    "                count = 0\n",
    "                \n",
    "            idx += 1\n",
    "                \n",
    "    return result\n",
    "    \n",
    "print(create_output_string(masks[18]))"
   ]
  },
  {
   "cell_type": "code",
   "execution_count": null,
   "metadata": {},
   "outputs": [],
   "source": []
  }
 ],
 "metadata": {
  "kernelspec": {
   "display_name": "Python 3",
   "language": "python",
   "name": "python3"
  },
  "language_info": {
   "codemirror_mode": {
    "name": "ipython",
    "version": 3
   },
   "file_extension": ".py",
   "mimetype": "text/x-python",
   "name": "python",
   "nbconvert_exporter": "python",
   "pygments_lexer": "ipython3",
   "version": "3.5.2"
  }
 },
 "nbformat": 4,
 "nbformat_minor": 2
}
