{
 "cells": [
  {
   "cell_type": "markdown",
   "metadata": {},
   "source": [
    "# The nucleus challenge"
   ]
  },
  {
   "cell_type": "markdown",
   "metadata": {},
   "source": [
    "## Read the data"
   ]
  },
  {
   "cell_type": "code",
   "execution_count": null,
   "metadata": {},
   "outputs": [],
   "source": [
    "import os.path\n",
    "\n",
    "import pathlib\n",
    "import imageio\n",
    "import numpy as np"
   ]
  },
  {
   "cell_type": "code",
   "execution_count": null,
   "metadata": {},
   "outputs": [],
   "source": [
    "FULL_ANALYSIS = False"
   ]
  },
  {
   "cell_type": "code",
   "execution_count": null,
   "metadata": {},
   "outputs": [],
   "source": [
    "training_paths = pathlib.Path('data/data-science-bowl-2018/stage1_train').glob('*/images/*.png')\n",
    "training_sorted = sorted([x for x in training_paths])\n",
    "print('Found', len(training_sorted), 'training images')\n",
    "print(*training_sorted[0:2], sep='\\n')"
   ]
  },
  {
   "cell_type": "markdown",
   "metadata": {},
   "source": [
    "## Plot the data"
   ]
  },
  {
   "cell_type": "code",
   "execution_count": null,
   "metadata": {},
   "outputs": [],
   "source": [
    "import matplotlib.pyplot as plt\n",
    "\n",
    "\n",
    "def show_images(ims, cmap=None, labels=None):\n",
    "    plt.figure(figsize=(3 * len(ims),10))\n",
    "    if labels is not None:\n",
    "        assert(len(labels) == len(ims)), 'provide exactly one label per image'\n",
    "    for idx, im in enumerate(ims):\n",
    "        plt.subplot(1,len(ims),idx + 1)\n",
    "        plt.imshow(im, cmap=cmap)\n",
    "        # plt.axis('off')\n",
    "        if labels is None:\n",
    "            plt.title('Image ' + str(idx))\n",
    "        else:\n",
    "            plt.title(labels[idx])\n",
    "            \n",
    "    plt.tight_layout()\n",
    "    plt.show()"
   ]
  },
  {
   "cell_type": "code",
   "execution_count": null,
   "metadata": {},
   "outputs": [],
   "source": [
    "ims = list(map(lambda p: imageio.imread(str(p)), training_sorted[0:4]))\n",
    "show_images(ims)"
   ]
  },
  {
   "cell_type": "markdown",
   "metadata": {},
   "source": [
    "## Clean the data"
   ]
  },
  {
   "cell_type": "markdown",
   "metadata": {},
   "source": [
    "### Coerce to gray scale"
   ]
  },
  {
   "cell_type": "code",
   "execution_count": null,
   "metadata": {},
   "outputs": [],
   "source": [
    "from skimage.color import rgb2gray\n",
    "\n",
    "im = imageio.imread(str(training_sorted[0]))  # image instance for testing\n",
    "im2 = imageio.imread(str(training_sorted[2]))  # image instance for testing\n",
    "\n",
    "# Print the image dimensions\n",
    "print('Original image shape: {}'.format(im.shape))\n",
    "\n",
    "# Coerce the image into grayscale format (if not already)\n",
    "print('New image shape: {}'.format(rgb2gray(im).shape))\n",
    "\n",
    "ims = list(map(lambda p: rgb2gray(imageio.imread(str(p))), training_sorted[0:4]))\n",
    "show_images(ims, cmap='gray')"
   ]
  },
  {
   "cell_type": "markdown",
   "metadata": {},
   "source": [
    "### Remove background"
   ]
  },
  {
   "cell_type": "markdown",
   "metadata": {},
   "source": [
    "#### Analyze distribution of pixel intensity"
   ]
  },
  {
   "cell_type": "code",
   "execution_count": null,
   "metadata": {},
   "outputs": [],
   "source": [
    "def show_pixel_values(ims):\n",
    "    plt.figure(figsize=(2 * len(ims),2))\n",
    "    for idx, im in enumerate(ims):\n",
    "        plt.subplot(1,len(ims),idx + 1)\n",
    "        im_pixels = im.flatten()\n",
    "        plt.hist(im_pixels, bins=50)\n",
    "        # plt.vlines(thresh_val, 0, 100000, linestyle='--')\n",
    "        plt.xlim([0,1])\n",
    "        plt.yscale('log', nonposy='clip')\n",
    "        plt.xlabel('grayscale')\n",
    "        plt.title('Image ' + str(idx))\n",
    "            \n",
    "    plt.tight_layout()\n",
    "    plt.show()\n",
    "    \n",
    "ims = list(map(lambda p: rgb2gray(imageio.imread(str(p))), training_sorted[0:4]))\n",
    "show_pixel_values(ims)"
   ]
  },
  {
   "cell_type": "markdown",
   "metadata": {},
   "source": [
    "#### Mask all values above/below certain threshold"
   ]
  },
  {
   "cell_type": "code",
   "execution_count": null,
   "metadata": {},
   "outputs": [],
   "source": [
    "from skimage.filters import threshold_otsu, threshold_yen, threshold_isodata, threshold_triangle, threshold_sauvola, threshold_mean\n",
    "\n",
    "\n",
    "def get_image_mask(im, strategy='otsu'):\n",
    "    if len(im.shape) > 2:\n",
    "        raise ValueError('need 2-dimensional image data, you provided ' + str(im.shape))\n",
    "    if strategy == 'yen':\n",
    "        thresh_val = threshold_mean(im)\n",
    "#         thresh_val = np.mean(im)\n",
    "    elif strategy == 'yen':\n",
    "        thresh_val = threshold_yen(im)\n",
    "    elif strategy == 'isodata':\n",
    "        thresh_val = threshold_isodata(im)\n",
    "    elif strategy == 'otsu':\n",
    "        thresh_val = threshold_otsu(im)\n",
    "    elif strategy == 'triangle':\n",
    "        thresh_val = threshold_triangle(im)\n",
    "    elif strategy == 'sauvola':\n",
    "        thresh_val = threshold_sauvola(im)\n",
    "    else:\n",
    "        thresh_val = 0.3\n",
    "    mask = np.where(im > thresh_val, 1, 0)\n",
    "\n",
    "    # Make sure the larger portion of the mask is considered background\n",
    "    if np.sum(mask==0) < np.sum(mask==1):\n",
    "        mask = np.where(mask, 0, 1)\n",
    "        \n",
    "    return mask\n",
    "\n",
    "\n",
    "def mask_image(im, **kwargs):   \n",
    "    return np.where(get_image_mask(im, **kwargs), im, 0)"
   ]
  },
  {
   "cell_type": "markdown",
   "metadata": {},
   "source": [
    "Investigate different scikit image filters"
   ]
  },
  {
   "cell_type": "code",
   "execution_count": null,
   "metadata": {},
   "outputs": [],
   "source": [
    "showOnlyOne = False\n",
    "\n",
    "if showOnlyOne:\n",
    "    ims = list(map(lambda p: mask_image(rgb2gray(imageio.imread(str(p)))), training_sorted[0:4]))\n",
    "    show_images(ims, cmap='gray')\n",
    "else:\n",
    "    strategies = ['yen', 'isodata', 'otsu', 'triangle', 'sauvola', 'else']\n",
    "    for strat in strategies:\n",
    "        ims = list(map(lambda p: mask_image(rgb2gray(imageio.imread(str(p))), strategy=strat), training_sorted[0:4]))\n",
    "        show_images(ims, cmap='gray', labels=['Image ' + str(i) + ': ' + strat for i in range(len(ims))])"
   ]
  },
  {
   "cell_type": "code",
   "execution_count": null,
   "metadata": {},
   "outputs": [],
   "source": [
    "print('Unmasked:')\n",
    "ims = list(map(lambda p: rgb2gray(imageio.imread(str(p))), training_sorted[0:4]))\n",
    "show_pixel_values(ims)\n",
    "print('Masked:')\n",
    "ims = list(map(lambda p: mask_image(rgb2gray(imageio.imread(str(p)))), training_sorted[0:4]))\n",
    "show_pixel_values(ims)"
   ]
  },
  {
   "cell_type": "markdown",
   "metadata": {},
   "source": [
    "### Create separate mask for each blob"
   ]
  },
  {
   "cell_type": "code",
   "execution_count": null,
   "metadata": {},
   "outputs": [],
   "source": [
    "from scipy import ndimage\n",
    "\n",
    "mask = get_image_mask(rgb2gray(im))\n",
    "labels, nlabels = ndimage.label(mask)\n",
    "\n",
    "show_images([mask])\n",
    "# show_images(labels[:3])\n",
    "print(labels[200])"
   ]
  },
  {
   "cell_type": "code",
   "execution_count": null,
   "metadata": {},
   "outputs": [],
   "source": [
    "MIN_PIXELS_IN_BLOB = 30\n",
    "\n",
    "def get_separate_masks(im):\n",
    "    mask = get_image_mask(rgb2gray(im))\n",
    "    labels, nlabels = ndimage.label(mask)\n",
    "    label_arrays = []\n",
    "    for label_num in range(1, nlabels+1):\n",
    "        label_mask = np.where(labels == label_num, 1, 0)\n",
    "        if label_mask.sum() > MIN_PIXELS_IN_BLOB:\n",
    "            label_arrays.append(label_mask)\n",
    "    return label_arrays\n",
    "\n",
    "masks = get_separate_masks(rgb2gray(im))\n",
    "print(len(masks))\n",
    "show_images([masks[0], masks[0][0:7, 187:210]], labels=['Full', 'Zoom'])"
   ]
  },
  {
   "cell_type": "markdown",
   "metadata": {},
   "source": [
    "Plot different masks in different colors"
   ]
  },
  {
   "cell_type": "code",
   "execution_count": null,
   "metadata": {},
   "outputs": [],
   "source": [
    "from matplotlib.colors import ListedColormap\n",
    "\n",
    "\n",
    "def show_masks(ims, labels=None):\n",
    "    plt.figure(figsize=(3 * len(ims),10))\n",
    "    if labels is not None:\n",
    "        assert(len(labels) == len(ims)), 'provide exactly one label per image'\n",
    "    for idx, im in enumerate(ims):\n",
    "        plt.subplot(1,len(ims),idx + 1)\n",
    "        masks = get_separate_masks(im)\n",
    "        for mask in masks:\n",
    "            rand_cmap = ListedColormap(np.random.rand(256,3))\n",
    "            mask = np.where(mask, 1, np.nan)\n",
    "            plt.imshow(mask, cmap=rand_cmap)\n",
    "        # plt.axis('off')\n",
    "        if labels is None:\n",
    "            plt.title('Image ' + str(idx))\n",
    "        else:\n",
    "            plt.title(labels[idx])\n",
    "            \n",
    "    plt.tight_layout()\n",
    "    plt.show()\n",
    "    \n",
    "    \n",
    "ims = list(map(lambda p: rgb2gray(imageio.imread(str(p))), training_sorted[0:6]))\n",
    "show_images(ims, cmap='gray')\n",
    "show_masks(ims)"
   ]
  },
  {
   "cell_type": "markdown",
   "metadata": {},
   "source": [
    "### Create string representation of mask"
   ]
  },
  {
   "cell_type": "code",
   "execution_count": null,
   "metadata": {},
   "outputs": [],
   "source": [
    "import functools\n",
    "\n",
    "\n",
    "def create_output_string(mask):\n",
    "    nY, nX = mask.shape\n",
    "    result = ''\n",
    "    idx = 0\n",
    "    count = 0\n",
    "    maxIdx = functools.reduce(lambda x, y: x*y, mask.shape)\n",
    "    lastIdx = 0\n",
    "    for x in range(nX):\n",
    "        for y in range(nY):\n",
    "            if mask[y, x] == 1 and count == 0:\n",
    "                result += str(idx+1) + ' '\n",
    "                count += 1\n",
    "                lastIdx = idx\n",
    "            elif mask[y, x] == 1:\n",
    "                count += 1\n",
    "\n",
    "            if (mask[y, x] == 0 or y == nY - 1) and count != 0:\n",
    "                result += str(count) + ' '\n",
    "                count = 0\n",
    "                lastIdx = 0\n",
    "\n",
    "            idx += 1\n",
    "                \n",
    "    return result\n",
    "    \n",
    "print(create_output_string(masks[0]))"
   ]
  },
  {
   "cell_type": "markdown",
   "metadata": {},
   "source": [
    "## Analyze test data"
   ]
  },
  {
   "cell_type": "markdown",
   "metadata": {},
   "source": [
    "### Load test data"
   ]
  },
  {
   "cell_type": "code",
   "execution_count": null,
   "metadata": {},
   "outputs": [],
   "source": [
    "test_paths = pathlib.Path('data/data-science-bowl-2018/stage1_test').glob('*/images/*.png')\n",
    "test_sorted = sorted([x for x in test_paths])\n",
    "print(test_sorted[0])"
   ]
  },
  {
   "cell_type": "markdown",
   "metadata": {},
   "source": [
    "Show some of them with their masks"
   ]
  },
  {
   "cell_type": "code",
   "execution_count": null,
   "metadata": {},
   "outputs": [],
   "source": [
    "paths = test_sorted[0:4]\n",
    "ims = list(map(lambda p: imageio.imread(str(p)), paths))\n",
    "masks = list(map(lambda p: get_image_mask(rgb2gray(imageio.imread(str(p)))), paths))\n",
    "show_images(ims)\n",
    "show_images(masks)"
   ]
  },
  {
   "cell_type": "markdown",
   "metadata": {},
   "source": [
    "### Run the algorithm"
   ]
  },
  {
   "cell_type": "markdown",
   "metadata": {},
   "source": [
    "Still takes quite some time to run. Reduce MAX_MASK parameter to speed up"
   ]
  },
  {
   "cell_type": "code",
   "execution_count": null,
   "metadata": {},
   "outputs": [],
   "source": [
    "MAX_MASK = 100\n",
    "\n",
    "def analyze_image(paths, fileName=None):\n",
    "    with open(fileName, 'w') as myfile:\n",
    "        print('ImageId,EncodedPixels', file=myfile)\n",
    "        for pidx, path in enumerate(paths):\n",
    "            name = str.split(os.path.basename(str(path)), '.')[0]\n",
    "            print(str(pidx) + '/' + str(len(paths)) + ': processing', name)\n",
    "            im = rgb2gray(imageio.imread(str(path)))\n",
    "            masks = get_separate_masks(im)\n",
    "            for idx, mask in enumerate(masks):\n",
    "                if idx >= MAX_MASK:\n",
    "                    print('Warning: image', name, 'has more than', MAX_MASK, 'masks! Skip rest.')\n",
    "                    break\n",
    "                maskString = create_output_string(mask)\n",
    "                print(name + ', ' + maskString, file=myfile)\n",
    "\n",
    "if FULL_ANALYSIS:\n",
    "    analyze_image(test_sorted, 'results/result_analytic.csv')\n",
    "else:\n",
    "    analyze_image(test_sorted[0:4], 'results/result_test.csv')"
   ]
  },
  {
   "cell_type": "markdown",
   "metadata": {},
   "source": [
    "## Investigate training data"
   ]
  },
  {
   "cell_type": "code",
   "execution_count": null,
   "metadata": {},
   "outputs": [],
   "source": [
    "import itertools\n",
    "\n",
    "training_label_paths = pathlib.Path('data/data-science-bowl-2018/stage1_train').glob('*/masks/')\n",
    "training_label_sorted = sorted([x for x in training_label_paths])\n",
    "\n",
    "maskStrings = []\n",
    "for maskDir in training_label_sorted:\n",
    "    mask_paths =  pathlib.Path(maskDir).glob('*.png')\n",
    "    mask_paths = sorted([x for x in mask_paths])\n",
    "    maskStrings.append(mask_paths)\n",
    "\n",
    "# print(training_label_sorted[0:2], sep='\\n')\n",
    "print('Found', len(maskStrings), 'mask dirs')\n",
    "print('Found', len(maskStrings[0]), 'masks in first dir')"
   ]
  },
  {
   "cell_type": "code",
   "execution_count": null,
   "metadata": {},
   "outputs": [],
   "source": [
    "mask = maskStrings[0][0]\n",
    "\n",
    "\n",
    "def show_superimposed(maskLists, labels=None):\n",
    "    plt.figure(figsize=(3 * len(maskLists),10))\n",
    "    if labels is not None:\n",
    "        assert(len(labels) == len(maskLists)), 'provide exactly one label per image'\n",
    "    for idx, masks in enumerate(maskLists):\n",
    "        plt.subplot(1,len(maskLists),idx + 1)\n",
    "        for mask in masks:\n",
    "            rand_cmap = ListedColormap(np.random.rand(256,3))\n",
    "            mask = np.where(mask, 1, np.nan)\n",
    "            plt.imshow(mask, cmap=rand_cmap)\n",
    "        # plt.axis('off')\n",
    "        if labels is None:\n",
    "            plt.title('Image ' + str(idx))\n",
    "        else:\n",
    "            plt.title(labels[idx])\n",
    "            \n",
    "    plt.tight_layout()\n",
    "    plt.show()\n",
    "    \n",
    "print('Reconstructed masks:')\n",
    "recoMasks = list(map(lambda p: get_separate_masks(rgb2gray(imageio.imread(str(p)))), training_sorted[0:6]))\n",
    "show_superimposed(recoMasks)\n",
    "print('True masks:')\n",
    "labelMasks = list(map(lambda p: list(map(lambda m: rgb2gray(imageio.imread(str(m))), p)), maskStrings[0:6]))\n",
    "show_superimposed(labelMasks)"
   ]
  },
  {
   "cell_type": "code",
   "execution_count": null,
   "metadata": {},
   "outputs": [],
   "source": []
  }
 ],
 "metadata": {
  "kernelspec": {
   "display_name": "Python 3",
   "language": "python",
   "name": "python3"
  },
  "language_info": {
   "codemirror_mode": {
    "name": "ipython",
    "version": 3
   },
   "file_extension": ".py",
   "mimetype": "text/x-python",
   "name": "python",
   "nbconvert_exporter": "python",
   "pygments_lexer": "ipython3",
   "version": "3.5.2"
  }
 },
 "nbformat": 4,
 "nbformat_minor": 2
}
